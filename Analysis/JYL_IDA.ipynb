{
 "cells": [
  {
   "metadata": {
    "ExecuteTime": {
     "end_time": "2024-11-13T08:13:01.628105Z",
     "start_time": "2024-11-13T08:13:00.720607Z"
    }
   },
   "cell_type": "code",
   "source": [
    "import pandas as pd\n",
    "\n",
    "plot_summaries_path = \"MovieSummaries/plot_summaries.txt\"\n",
    "movie_metadata_path = \"MovieSummaries/movie.metadata.tsv\"\n",
    "character_metadata_path = \"MovieSummaries/character.metadata.tsv\"\n",
    "\n",
    "\n",
    "movie_metadata = pd.read_csv(\n",
    "    movie_metadata_path,\n",
    "    sep='\\t',\n",
    "    header=None,\n",
    "    names=[\n",
    "        \"Wikipedia_movie_ID\",\n",
    "        \"Freebase_movie_ID\",\n",
    "        \"Movie_name\",\n",
    "        \"Movie_release_date\",\n",
    "        \"Movie_box_office_revenue\",\n",
    "        \"Movie_runtime\",\n",
    "        \"Movie_languages\",\n",
    "        \"Movie_countries\",\n",
    "        \"Movie_genres\"\n",
    "    ]\n",
    ")\n",
    "\n",
    "character_metadata = pd.read_csv(\n",
    "    character_metadata_path,\n",
    "    sep='\\t',\n",
    "    header=None,\n",
    "    names=[\n",
    "        \"Wikipedia_movie_ID\",\n",
    "        \"Freebase_movie_ID\",\n",
    "        \"Movie_release_date\",\n",
    "        \"Character_name\",\n",
    "        \"Actor_date_of_birth\",\n",
    "        \"Actor_gender\",\n",
    "        \"Actor_height\",\n",
    "        \"Actor_ethnicity\",\n",
    "        \"Actor_name\",\n",
    "        \"Actor_age_at_movie_release\",\n",
    "        \"Freebase_character_actor_map_ID\",\n",
    "        \"Freebase_character_ID\",\n",
    "        \"Freebase_actor_ID\"\n",
    "    ]\n",
    ")"
   ],
   "id": "c10a8b090d7d5360",
   "outputs": [],
   "execution_count": 1
  },
  {
   "metadata": {
    "ExecuteTime": {
     "end_time": "2024-11-13T08:13:01.878108Z",
     "start_time": "2024-11-13T08:13:01.842107Z"
    }
   },
   "cell_type": "code",
   "source": [
    "#convert movie date\n",
    "movie_metadata['Movie_release_date'] = pd.to_datetime(\n",
    "    movie_metadata['Movie_release_date'], errors='coerce', format='%Y-%m-%d'\n",
    ")"
   ],
   "id": "989eeb6cc20036af",
   "outputs": [],
   "execution_count": 2
  },
  {
   "metadata": {},
   "cell_type": "markdown",
   "source": "**Crawling revenue information from websites**",
   "id": "cbebf2444bf6de26"
  },
  {
   "metadata": {},
   "cell_type": "code",
   "source": [
    "import requests\n",
    "from bs4 import BeautifulSoup\n",
    "import pandas as pd\n",
    "import time\n",
    "\n",
    "base_url = 'https://www.boxofficemojo.com/year/world/'\n",
    "\n",
    "request_headers = {\n",
    "    'User-Agent': 'Mozilla/5.0 (Windows NT 10.0; Win64; x64) AppleWebKit/537.36 (KHTML, like Gecko) Chrome/98.0.4758.102 Safari/537.36'}\n",
    "\n",
    "start_year = 1977\n",
    "end_year = 2017\n",
    "\n",
    "all_data = []\n",
    "\n",
    "for year in range(start_year, end_year + 1):\n",
    "    url = f\"{base_url}{year}/\"\n",
    "    print(year)\n",
    "\n",
    "    response = requests.get(url, headers=request_headers)\n",
    "    \n",
    "    if response.status_code == 200:\n",
    "\n",
    "        soup = BeautifulSoup(response.text, 'html.parser')\n",
    "        \n",
    "\n",
    "        table = soup.find('table')\n",
    "        \n",
    "        if table:\n",
    "            column_headers = [header.text.strip() for header in table.find_all('th')]\n",
    "            \n",
    "            rows = []\n",
    "            for row in table.find_all('tr')[1:]:\n",
    "                cols = row.find_all('td')\n",
    "                cols = [ele.text.strip() for ele in cols]\n",
    "                if cols:\n",
    "                    rows.append(cols)\n",
    "            \n",
    "            if rows:\n",
    "                df = pd.DataFrame(rows, columns=column_headers)\n",
    "                df['Year'] = year\n",
    "                \n",
    "                all_data.append(df)\n",
    "\n",
    "    time.sleep(1)\n",
    "\n",
    "final_df = pd.concat(all_data, ignore_index=True)\n",
    "final_df.to_csv('box_office_1977_to_2017.csv', index=False)"
   ],
   "id": "32ec299eae9a9f7a",
   "outputs": [],
   "execution_count": null
  },
  {
   "metadata": {},
   "cell_type": "markdown",
   "source": "",
   "id": "a6c343cbab23b1a7"
  },
  {
   "metadata": {},
   "cell_type": "markdown",
   "source": [
    "**Using API to fill Nan**\n",
    "\n",
    "Due to regulations, I do not display and store any of the data we acquire and only use it for analysis."
   ],
   "id": "3fc4fc570f58ed09"
  },
  {
   "metadata": {
    "ExecuteTime": {
     "end_time": "2024-11-12T20:26:54.921721Z",
     "start_time": "2024-11-12T20:26:54.916721Z"
    }
   },
   "cell_type": "code",
   "source": "API_KEY = ''",
   "id": "5d612ec60f7ce9dc",
   "outputs": [],
   "execution_count": 7
  },
  {
   "metadata": {},
   "cell_type": "markdown",
   "source": "This if for all data",
   "id": "ee0bc25083b920b5"
  },
  {
   "metadata": {
    "ExecuteTime": {
     "end_time": "2024-11-12T20:38:06.952442Z",
     "start_time": "2024-11-12T20:38:06.932442Z"
    }
   },
   "cell_type": "code",
   "source": [
    "def get_movie_id(movie_name):\n",
    "    search_url = 'https://api.themoviedb.org/3/search/movie'\n",
    "    params = {\n",
    "        'api_key': API_KEY,\n",
    "        'query': movie_name,\n",
    "        'language': 'en-US'\n",
    "    }\n",
    "    response = requests.get(search_url, params=params)\n",
    "    data = response.json()\n",
    "    if data['results']:\n",
    "        return data['results'][0]['id']\n",
    "    else:\n",
    "        print(f\"Movie not found: {movie_name}\")\n",
    "        return None\n",
    "\n",
    "def get_movie_details(movie_id):\n",
    "    details_url = f'https://api.themoviedb.org/3/movie/{movie_id}'\n",
    "    params = {\n",
    "        'api_key': API_KEY,\n",
    "        'language': 'en-US'\n",
    "    }\n",
    "    response = requests.get(details_url, params=params)\n",
    "    return response.json()\n",
    "\n",
    "def get_movie_keywords(movie_id):\n",
    "    keywords_url = f'https://api.themoviedb.org/3/movie/{movie_id}/keywords'\n",
    "    params = {\n",
    "        'api_key': API_KEY\n",
    "    }\n",
    "    response = requests.get(keywords_url, params=params)\n",
    "    return response.json()\n",
    "\n",
    "def get_movie_certification(movie_id, country_code='US'):\n",
    "    release_dates_url = f'https://api.themoviedb.org/3/movie/{movie_id}/release_dates'\n",
    "    params = {\n",
    "        'api_key': API_KEY\n",
    "    }\n",
    "    response = requests.get(release_dates_url, params=params)\n",
    "    data = response.json()\n",
    "    certifications = []\n",
    "    for result in data.get('results', []):\n",
    "        if result['iso_3166_1'] == country_code:\n",
    "            for release in result['release_dates']:\n",
    "                certification = release.get('certification')\n",
    "                if certification:\n",
    "                    certifications.append(certification)\n",
    "    # 返回唯一的认证列表\n",
    "    return list(set(certifications))\n",
    "\n",
    "def extract_movie_info(movie_data, keywords, certification):\n",
    "    title = movie_data.get('title')\n",
    "    rating = movie_data.get('vote_average')\n",
    "    vote_count = movie_data.get('vote_count')\n",
    "    revenue = movie_data.get('revenue')\n",
    "    budget = movie_data.get('budget')\n",
    "    genres = [genre['name'] for genre in movie_data.get('genres', [])]\n",
    "    keyword_list = [keyword['name'] for keyword in keywords.get('keywords', [])]\n",
    "    certification_info = certification\n",
    "    return {\n",
    "        'title': title,\n",
    "        'rating': rating,\n",
    "        'vote_count': vote_count,\n",
    "        'genres': genres,\n",
    "        'budget': budget,\n",
    "        'revenue': revenue,\n",
    "        'keywords': keyword_list,\n",
    "        'certification': certification_info\n",
    "    }"
   ],
   "id": "d1bc9a6e19e522d4",
   "outputs": [],
   "execution_count": 17
  },
  {
   "metadata": {},
   "cell_type": "code",
   "source": [
    "from tqdm import tqdm\n",
    "\n",
    "movie_names = movie_metadata['Movie_name']\n",
    "\n",
    "movie_data_all = []\n",
    "for name in tqdm(movie_names, desc='Processing movies', unit='movie'):\n",
    "    movie_id = get_movie_id(name)\n",
    "    if movie_id:\n",
    "        details = get_movie_details(movie_id)\n",
    "        keywords = get_movie_keywords(movie_id)\n",
    "        certification = get_movie_certification(movie_id)\n",
    "        info = extract_movie_info(details, keywords, certification)\n",
    "        movie_data_all.append(info)\n"
   ],
   "id": "53164519f9508f09",
   "outputs": [],
   "execution_count": null
  },
  {
   "metadata": {},
   "cell_type": "code",
   "outputs": [],
   "execution_count": null,
   "source": [
    "for movie in movie_data_all:\n",
    "    print(f\"Title: {movie['title']}\")\n",
    "    print(f\"Genres: {', '.join(movie['genres'])}\")\n",
    "    print(f\"Budget: ${movie['budget']}\")\n",
    "    print(f\"Revenue: ${movie['revenue']}\")\n",
    "    print(f\"Average Rating: {movie['rating']} (based on {movie['vote_count']} votes)\")\n",
    "    print(f\"Keywords: {', '.join(movie['keywords'])}\")\n",
    "    print(f\"Certification: {', '.join(movie['certification'])}\")\n",
    "    print('-----------------------')"
   ],
   "id": "e507d6b98deed2d9"
  },
  {
   "metadata": {},
   "cell_type": "raw",
   "source": "This is just for ratings",
   "id": "44cd779775aa6457"
  },
  {
   "metadata": {
    "ExecuteTime": {
     "end_time": "2024-11-12T21:26:35.943670Z",
     "start_time": "2024-11-12T21:26:35.925700Z"
    }
   },
   "cell_type": "code",
   "source": [
    "def get_movie_id(movie_name):\n",
    "    search_url = 'https://api.themoviedb.org/3/search/movie'\n",
    "    params = {\n",
    "        'api_key': API_KEY,\n",
    "        'query': movie_name,\n",
    "        'language': 'en-US'\n",
    "    }\n",
    "    response = requests.get(search_url, params=params)\n",
    "    data = response.json()\n",
    "    if data['results']:\n",
    "        return data['results'][0]['id']\n",
    "    else:\n",
    "        print(f\"Movie not found: {movie_name}\")\n",
    "        return None\n",
    "\n",
    "def get_movie_details(movie_id):\n",
    "    details_url = f'https://api.themoviedb.org/3/movie/{movie_id}'\n",
    "    params = {\n",
    "        'api_key': API_KEY,\n",
    "        'language': 'en-US'\n",
    "    }\n",
    "    response = requests.get(details_url, params=params)\n",
    "    return response.json()\n",
    "\n",
    "def extract_movie_info(movie_data):\n",
    "    title = movie_data.get('title')\n",
    "    rating = movie_data.get('vote_average')\n",
    "    vote_count = movie_data.get('vote_count')\n",
    "    return {\n",
    "        'title': title,\n",
    "        'rating': rating,\n",
    "        'vote_count': vote_count\n",
    "    }"
   ],
   "id": "b162210b359ea060",
   "outputs": [],
   "execution_count": 21
  },
  {
   "metadata": {
    "ExecuteTime": {
     "end_time": "2024-11-12T21:26:43.517244Z",
     "start_time": "2024-11-12T21:26:40.621359Z"
    }
   },
   "cell_type": "code",
   "source": [
    "from tqdm import tqdm\n",
    "\n",
    "movie_names = movie_metadata['Movie_name'][0:5]\n",
    "\n",
    "movie_data_ratings = []\n",
    "for name in tqdm(movie_names, desc='Processing movies', unit='movie'):\n",
    "    movie_id = get_movie_id(name)\n",
    "    if movie_id:\n",
    "        details = get_movie_details(movie_id)\n",
    "        info = extract_movie_info(details) \n",
    "        movie_data_ratings.append(info)"
   ],
   "id": "e41df55c94de7e68",
   "outputs": [
    {
     "name": "stderr",
     "output_type": "stream",
     "text": [
      "Processing movies: 100%|██████████| 5/5 [00:02<00:00,  1.74movie/s]\n"
     ]
    }
   ],
   "execution_count": 22
  },
  {
   "metadata": {},
   "cell_type": "markdown",
   "source": "**Graph**",
   "id": "be8eb9936c5fec52"
  },
  {
   "metadata": {
    "ExecuteTime": {
     "end_time": "2024-11-13T08:13:41.226851Z",
     "start_time": "2024-11-13T08:13:41.021853Z"
    }
   },
   "cell_type": "code",
   "source": [
    "import numpy as np\n",
    "import networkx as nx\n",
    "import plotly.graph_objs as go\n",
    "\n",
    "#replace this\n",
    "movie_metadata['ratings'] = np.random.uniform(0.0, 5.0, size=len(movie_metadata))\n",
    "\n",
    "# ratings_df = pd.read_csv('ratings.csv')\n",
    "# movie_metadata = pd.merge(movie_metadata, ratings_df, on='Movie_name', how='right')"
   ],
   "id": "2acc544064a156be",
   "outputs": [],
   "execution_count": 3
  },
  {
   "metadata": {
    "ExecuteTime": {
     "end_time": "2024-11-13T08:13:41.574132Z",
     "start_time": "2024-11-13T08:13:41.324132Z"
    }
   },
   "cell_type": "code",
   "source": [
    "merged_data = pd.merge(character_metadata, movie_metadata, on='Wikipedia_movie_ID', how='inner')\n",
    "\n",
    "merged_data = merged_data[merged_data['Actor_name'].notna()]\n",
    "merged_data = merged_data[merged_data['Actor_name'] != '']\n"
   ],
   "id": "9b1346f2f02627ba",
   "outputs": [],
   "execution_count": 4
  },
  {
   "metadata": {
    "ExecuteTime": {
     "end_time": "2024-11-13T08:36:39.277250Z",
     "start_time": "2024-11-13T08:36:35.363250Z"
    }
   },
   "cell_type": "code",
   "source": [
    "G = nx.Graph()\n",
    "\n",
    "movie_actor_group = merged_data.groupby('Wikipedia_movie_ID')['Actor_name'].apply(list)\n",
    "\n",
    "for actors in movie_actor_group:\n",
    "    actors = list(set(actors))\n",
    "    for i in range(len(actors)):\n",
    "        for j in range(i + 1, len(actors)):\n",
    "            G.add_edge(actors[i], actors[j])\n",
    "\n",
    "degree_dict = dict(G.degree())\n",
    "nx.set_node_attributes(G, degree_dict, 'degree')\n",
    "\n",
    "top_actors = sorted(degree_dict, key=degree_dict.get, reverse=True)[:60]\n",
    "\n",
    "G_sub = G.subgraph(top_actors).copy()\n",
    "\n",
    "actor_movie_ratings = merged_data.groupby('Actor_name')['ratings'].apply(list)\n",
    "\n",
    "actor_avg_ratings = {}\n",
    "for actor, ratings in actor_movie_ratings.items():\n",
    "    if len(ratings) >= 5:\n",
    "        avg_rating = np.mean(sorted(ratings, reverse=True)[:10])\n",
    "        actor_avg_ratings[actor] = avg_rating\n",
    "\n",
    "for node in G_sub.nodes():\n",
    "    G_sub.nodes[node]['avg_rating'] = actor_avg_ratings.get(node, None)\n",
    "    G_sub.nodes[node]['degree'] = G_sub.degree[node]\n",
    "\n",
    "nodes_to_remove = [node for node, attr in G_sub.nodes(data=True) if attr['avg_rating'] is None]\n",
    "G_sub.remove_nodes_from(nodes_to_remove)\n",
    "\n",
    "pos = nx.spring_layout(G_sub, k=0.5, iterations=50, seed=42)\n",
    "\n",
    "node_x = []\n",
    "node_y = []\n",
    "node_text = []\n",
    "node_hovertext = []\n",
    "node_size = []\n",
    "node_color = []\n",
    "\n",
    "for node in G_sub.nodes():\n",
    "    x, y = pos[node]\n",
    "    node_x.append(x)\n",
    "    node_y.append(y)\n",
    "    node_size.append(np.log(G_sub.nodes[node]['degree'] + 1) * 20)\n",
    "    node_color.append(G_sub.nodes[node]['avg_rating'])\n",
    "    node_text.append(f\"{node}\")\n",
    "    node_hovertext.append(f\"Degree: {G_sub.nodes[node]['degree']}<br>Avg Rating: {G_sub.nodes[node]['avg_rating']:.2f}\")\n",
    "\n",
    "edge_x = []\n",
    "edge_y = []\n",
    "for edge in G_sub.edges():\n",
    "    x0, y0 = pos[edge[0]]\n",
    "    x1, y1 = pos[edge[1]]\n",
    "    edge_x.extend([x0, x1, None])\n",
    "    edge_y.extend([y0, y1, None])\n",
    "\n",
    "edge_trace = go.Scatter(\n",
    "    x=edge_x,\n",
    "    y=edge_y,\n",
    "    line=dict(width=1, color='#888'),\n",
    "    hoverinfo='none',\n",
    "    mode='lines'\n",
    ")\n",
    "\n",
    "node_trace = go.Scatter(\n",
    "    x=node_x,\n",
    "    y=node_y,\n",
    "    mode='markers+text',\n",
    "    text=node_text,\n",
    "    hovertext=node_hovertext,\n",
    "    hoverinfo='text',\n",
    "    marker=dict(\n",
    "        showscale=True,\n",
    "        colorscale='Inferno',\n",
    "        reversescale=True,\n",
    "        color=node_color,\n",
    "        size=node_size,\n",
    "        colorbar=dict(\n",
    "            thickness=15,\n",
    "            title='Average Rating',\n",
    "            xanchor='left',\n",
    "            titleside='right'\n",
    "        ),\n",
    "        line_width=2\n",
    "    ),\n",
    "    textposition='middle center',\n",
    "    textfont_size=10\n",
    ")\n",
    "\n",
    "fig = go.Figure(data=[edge_trace, node_trace],\n",
    "                layout=go.Layout(\n",
    "                    title='Top 20 Actors Network Graph',\n",
    "                    titlefont_size=16,\n",
    "                    showlegend=False,\n",
    "                    hovermode='closest',\n",
    "                    margin=dict(b=20, l=5, r=5, t=40),\n",
    "                    annotations=[dict(\n",
    "                        text=\"Size: degree，colour: avg rating\",\n",
    "                        showarrow=False,\n",
    "                        xref=\"paper\", yref=\"paper\",\n",
    "                        x=0.005, y=-0.002\n",
    "                    )],\n",
    "                    xaxis=dict(showgrid=False, zeroline=False, showticklabels=False),\n",
    "                    yaxis=dict(showgrid=False, zeroline=False, showticklabels=False)\n",
    "                )\n",
    ")\n"
   ],
   "id": "e6eee07802f4947a",
   "outputs": [],
   "execution_count": 25
  },
  {
   "metadata": {
    "ExecuteTime": {
     "end_time": "2024-11-13T08:36:39.449266Z",
     "start_time": "2024-11-13T08:36:39.278252Z"
    }
   },
   "cell_type": "code",
   "source": "fig.show(renderer='browser')",
   "id": "93e5514109bd7b9a",
   "outputs": [],
   "execution_count": 26
  },
  {
   "metadata": {},
   "cell_type": "code",
   "outputs": [],
   "execution_count": null,
   "source": "",
   "id": "45be80bb25b98c09"
  }
 ],
 "metadata": {
  "kernelspec": {
   "display_name": "Python 3",
   "language": "python",
   "name": "python3"
  },
  "language_info": {
   "codemirror_mode": {
    "name": "ipython",
    "version": 2
   },
   "file_extension": ".py",
   "mimetype": "text/x-python",
   "name": "python",
   "nbconvert_exporter": "python",
   "pygments_lexer": "ipython2",
   "version": "2.7.6"
  }
 },
 "nbformat": 4,
 "nbformat_minor": 5
}
